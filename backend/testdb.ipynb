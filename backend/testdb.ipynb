{
 "cells": [
  {
   "cell_type": "code",
   "execution_count": null,
   "metadata": {},
   "outputs": [],
   "source": [
    "from core.dbhelper import XXXDao\n",
    "from datetime import datetime, timedelta\n",
    "from tortoise import Tortoise\n",
    "\n",
    "TORTOISE_ORM = {\n",
    "    \"connections\": {\"default\": \"sqlite://mini.db\"},\n",
    "    \"apps\": {\n",
    "        \"models\": {\n",
    "            \"models\": [\"models\",\"aerich.models\"],\n",
    "            \"default_connection\": \"default\",\n",
    "        },\n",
    "    },\n",
    "}\n",
    "\n",
    "async def init_orm():\n",
    "    \"\"\"初始化orm\"\"\"\n",
    "    # await Tortoise.init(db_url=\"sqlite://mini.db\", modules={\"models\": [\"models\"]})\n",
    "    await Tortoise.init(config = TORTOISE_ORM)\n",
    "    await Tortoise.generate_schemas()\n",
    "\n",
    "await init_orm()"
   ]
  },
  {
   "cell_type": "code",
   "execution_count": null,
   "metadata": {},
   "outputs": [],
   "source": [
    "today = datetime.now().date()\n",
    "start_of_day = datetime.combine(today, datetime.min.time())\n",
    "end_of_day = datetime.combine(today, datetime.max.time())\n",
    "\n",
    "kwargs = {}\n",
    "\n",
    "kwargs['date__gte'] = start_of_day\n",
    "kwargs['date__lte'] = end_of_day\n",
    "today_list = await XXXDao.selects(0,100,kwargs)"
   ]
  },
  {
   "cell_type": "code",
   "execution_count": null,
   "metadata": {},
   "outputs": [],
   "source": []
  }
 ],
 "metadata": {
  "kernelspec": {
   "display_name": "baichuang",
   "language": "python",
   "name": "python3"
  },
  "language_info": {
   "codemirror_mode": {
    "name": "ipython",
    "version": 3
   },
   "file_extension": ".py",
   "mimetype": "text/x-python",
   "name": "python",
   "nbconvert_exporter": "python",
   "pygments_lexer": "ipython3",
   "version": "3.10.13"
  }
 },
 "nbformat": 4,
 "nbformat_minor": 2
}
